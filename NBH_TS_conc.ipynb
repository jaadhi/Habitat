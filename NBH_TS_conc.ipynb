{
 "cells": [
  {
   "cell_type": "code",
   "execution_count": null,
   "metadata": {},
   "outputs": [],
   "source": [
    "import os\n",
    "import numpy as np\n",
    "import pandas as pd\n",
    "import matplotlib.pyplot as plt\n",
    "from mikeio.dfs0 import Dfs0, Dataset\n",
    "import mikeio.generic"
   ]
  },
  {
   "cell_type": "code",
   "execution_count": null,
   "metadata": {},
   "outputs": [],
   "source": [
    "sModel = 'NBH'\n",
    "ID = 'EU05'\n",
    "sDir = r'\\\\DKCPH1-STOR2.DHI.DK\\Projects\\11825259_WS\\Results\\NBH\\EU\\Calib'"
   ]
  },
  {
   "cell_type": "code",
   "execution_count": null,
   "metadata": {},
   "outputs": [],
   "source": [
    "%%time\n",
    "sDir_1 = r'{}\\{}_2014'.format(sDir,ID)\n",
    "sDir_2 = r'{}\\{}_2015'.format(sDir,ID)\n",
    "sDir_3 = r'{}\\{}_2016'.format(sDir,ID)\n",
    "sDir_4 = r'{}\\{}_2017'.format(sDir,ID)\n",
    "sDir_5 = r'{}\\{}_2018'.format(sDir,ID)\n",
    "outDir = r'{}\\{}'.format(sDir,ID)\n",
    "if not os.path.exists(outDir): os.makedirs(outDir)\n",
    "\n",
    "def concat(t1,t2,t3,t4,t5,t):\n",
    "    ds_1 = Dfs0(t1).read()\n",
    "    ds_2 = Dfs0(t2).read()\n",
    "    ds_3 = Dfs0(t3).read()\n",
    "    ds_4 = Dfs0(t4).read()\n",
    "    ds_5 = Dfs0(t5).read()\n",
    "\n",
    "    ds_time = np.concatenate((ds_1.time, ds_2.time[1:], ds_3.time[1:], ds_4.time[1:], ds_5.time[1:]), axis=0)\n",
    "    #ds_time = np.concatenate((ds_1.time, ds_2.time[1:], ds_3.time[1:]), axis=0)\n",
    "    ds_time = pd.to_datetime(ds_time)\n",
    "    ds_time.freq = 'H'\n",
    "\n",
    "    ds = []\n",
    "    for i in range (len(ds_1.data)):    \n",
    "        ds1 = np.concatenate((ds_1.data[i], ds_2.data[i][1:], ds_3.data[i][1:],\n",
    "                              ds_4.data[i][1:], ds_5.data[i][1:]), axis=0)\n",
    "        #ds1 = np.concatenate((ds_1.data[i], ds_2.data[i][1:], ds_3.data[i][1:]), axis=0)\n",
    "        ds.append(ds1)\n",
    "    \n",
    "    ds = Dataset(data=ds,time=ds_time,items=ds_1.items)\n",
    "    dfs = Dfs0()\n",
    "    dfs.write(filename=t,data=ds,title=\"concatenated\")\n",
    "    \n",
    "for file in os.listdir(sDir_1):\n",
    "    if file.endswith(\".dfs0\"):\n",
    "        if file.split('_')[2] == \"TS\":            \n",
    "            print(file)\n",
    "            t1 = '{}\\{}'.format(sDir_1,file)\n",
    "            t2 = '{}\\{}'.format(sDir_2,file)\n",
    "            t3 = '{}\\{}'.format(sDir_3,file)\n",
    "            t4 = '{}\\{}'.format(sDir_4,file)\n",
    "            t5 = '{}\\{}'.format(sDir_5,file)\n",
    "            t = '{}\\{}'.format(outDir,file)\n",
    "            #mikeio.generic.concat(infilenames=[t1,t2,t3],outfilename=t)  # Overwrite with latest\n",
    "            concat(t1,t2,t3,t4,t5,t)                                      # Use first file"
   ]
  }
 ],
 "metadata": {
  "kernelspec": {
   "display_name": "Python 3",
   "language": "python",
   "name": "python3"
  },
  "language_info": {
   "codemirror_mode": {
    "name": "ipython",
    "version": 3
   },
   "file_extension": ".py",
   "mimetype": "text/x-python",
   "name": "python",
   "nbconvert_exporter": "python",
   "pygments_lexer": "ipython3",
   "version": "3.7.6"
  }
 },
 "nbformat": 4,
 "nbformat_minor": 4
}
